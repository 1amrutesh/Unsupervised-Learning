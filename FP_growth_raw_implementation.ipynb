{
 "cells": [
  {
   "cell_type": "code",
   "execution_count": 1,
   "id": "4d030ccc",
   "metadata": {
    "ExecuteTime": {
     "end_time": "2021-12-30T05:02:53.222945Z",
     "start_time": "2021-12-30T05:02:53.216782Z"
    },
    "id": "4d030ccc"
   },
   "outputs": [],
   "source": [
    "def updateTree(items, inTree, headerTable, count):\n",
    "    if items[0] in inTree.childrens:\n",
    "        inTree.childrens[items[0]].inc(count)\n",
    "    else:\n",
    "        inTree.childrens[items[0]] = nodes(items[0], count, inTree)\n",
    "        if headerTable[items[0]][1] == None:\n",
    "            headerTable[items[0]][1] = inTree.childrens[items[0]]\n",
    "        else:\n",
    "            updateHeader(headerTable[items[0]][1], inTree.childrens[items[0]])\n",
    "    if len(items) > 1:\n",
    "        updateTree(items[1::], inTree.childrens[items[0]], headerTable, count)"
   ]
  },
  {
   "cell_type": "code",
   "execution_count": 2,
   "id": "qZOZf0XUdBSp",
   "metadata": {
    "ExecuteTime": {
     "end_time": "2021-12-30T05:02:54.555152Z",
     "start_time": "2021-12-30T05:02:54.548034Z"
    },
    "id": "qZOZf0XUdBSp"
   },
   "outputs": [],
   "source": [
    "def updateHeader(nodeToTest, targetNode):\n",
    "    while (nodeToTest.nodeLink != None):\n",
    "        nodeToTest = nodeToTest.nodeLink\n",
    "    nodeToTest.nodeLink = nodes"
   ]
  },
  {
   "cell_type": "code",
   "execution_count": 3,
   "id": "1af8c124",
   "metadata": {
    "ExecuteTime": {
     "end_time": "2021-12-30T05:02:55.933248Z",
     "start_time": "2021-12-30T05:02:55.927843Z"
    },
    "id": "1af8c124"
   },
   "outputs": [],
   "source": [
    "def loadSimpDat():\n",
    "    simpDat = [['Milk', 'Onion', 'Nutmeg', 'Kidney Beans', 'Eggs', 'Yogurt'],\n",
    "               ['Dill', 'Onion', 'Nutmeg', 'Kidney Beans', 'Eggs', 'Yogurt'],\n",
    "               ['Milk', 'Apple', 'Kidney Beans', 'Eggs'],\n",
    "               ['Milk', 'Unicorn', 'Corn', 'Kidney Beans', 'Yogurt'],\n",
    "               ['Corn', 'Onion', 'Onion', 'Kidney Beans', 'Ice cream', 'Eggs']]\n",
    "    return simpDat"
   ]
  },
  {
   "cell_type": "code",
   "execution_count": 4,
   "id": "jLC_iq1adDWa",
   "metadata": {
    "ExecuteTime": {
     "end_time": "2021-12-30T05:02:56.977580Z",
     "start_time": "2021-12-30T05:02:56.930588Z"
    },
    "colab": {
     "base_uri": "https://localhost:8080/"
    },
    "id": "jLC_iq1adDWa",
    "outputId": "6a1c60d3-b1b6-436d-a2da-47f278048e13"
   },
   "outputs": [
    {
     "data": {
      "text/plain": [
       "{frozenset({'Eggs', 'Kidney Beans', 'Milk', 'Nutmeg', 'Onion', 'Yogurt'}): 1,\n",
       " frozenset({'Dill', 'Eggs', 'Kidney Beans', 'Nutmeg', 'Onion', 'Yogurt'}): 1,\n",
       " frozenset({'Apple', 'Eggs', 'Kidney Beans', 'Milk'}): 1,\n",
       " frozenset({'Corn', 'Kidney Beans', 'Milk', 'Unicorn', 'Yogurt'}): 1,\n",
       " frozenset({'Corn', 'Eggs', 'Ice cream', 'Kidney Beans', 'Onion'}): 1}"
      ]
     },
     "execution_count": 4,
     "metadata": {},
     "output_type": "execute_result"
    }
   ],
   "source": [
    "def createInitSet(dataSet):\n",
    "    retDict = {}\n",
    "    for trans in dataSet:\n",
    "        retDict[frozenset(trans)] = 1\n",
    "    return retDict\n",
    "\n",
    "\n",
    "simpDat = loadSimpDat()\n",
    "initSet = createInitSet(simpDat)\n",
    "initSet"
   ]
  }
 ],
 "metadata": {
  "colab": {
   "include_colab_link": true,
   "name": "fp_growth_raw_implementation.ipynb",
   "provenance": []
  },
  "kernelspec": {
   "display_name": "Python 3 (ipykernel)",
   "language": "python",
   "name": "python3"
  },
  "language_info": {
   "codemirror_mode": {
    "name": "ipython",
    "version": 3
   },
   "file_extension": ".py",
   "mimetype": "text/x-python",
   "name": "python",
   "nbconvert_exporter": "python",
   "pygments_lexer": "ipython3",
   "version": "3.8.5"
  },
  "latex_envs": {
   "LaTeX_envs_menu_present": true,
   "autoclose": false,
   "autocomplete": true,
   "bibliofile": "biblio.bib",
   "cite_by": "apalike",
   "current_citInitial": 1,
   "eqLabelWithNumbers": true,
   "eqNumInitial": 1,
   "hotkeys": {
    "equation": "Ctrl-E",
    "itemize": "Ctrl-I"
   },
   "labels_anchors": false,
   "latex_user_defs": false,
   "report_style_numbering": false,
   "user_envs_cfg": false
  },
  "toc": {
   "base_numbering": 1,
   "nav_menu": {},
   "number_sections": true,
   "sideBar": true,
   "skip_h1_title": false,
   "title_cell": "Table of Contents",
   "title_sidebar": "Contents",
   "toc_cell": false,
   "toc_position": {},
   "toc_section_display": true,
   "toc_window_display": false
  },
  "varInspector": {
   "cols": {
    "lenName": 16,
    "lenType": 16,
    "lenVar": 40
   },
   "kernels_config": {
    "python": {
     "delete_cmd_postfix": "",
     "delete_cmd_prefix": "del ",
     "library": "var_list.py",
     "varRefreshCmd": "print(var_dic_list())"
    },
    "r": {
     "delete_cmd_postfix": ") ",
     "delete_cmd_prefix": "rm(",
     "library": "var_list.r",
     "varRefreshCmd": "cat(var_dic_list()) "
    }
   },
   "types_to_exclude": [
    "module",
    "function",
    "builtin_function_or_method",
    "instance",
    "_Feature"
   ],
   "window_display": false
  }
 },
 "nbformat": 4,
 "nbformat_minor": 5
}
